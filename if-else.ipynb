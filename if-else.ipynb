{
 "cells": [
  {
   "cell_type": "code",
   "execution_count": 2,
   "id": "b41787f4",
   "metadata": {},
   "outputs": [
    {
     "name": "stdout",
     "output_type": "stream",
     "text": [
      "yes\n"
     ]
    }
   ],
   "source": [
    "num=10\n",
    "if num==10:\n",
    "    print(\"yes\")\n",
    "else:\n",
    "    print(\"no\")"
   ]
  },
  {
   "cell_type": "code",
   "execution_count": 5,
   "id": "812458cc",
   "metadata": {},
   "outputs": [
    {
     "name": "stdout",
     "output_type": "stream",
     "text": [
      "enter number:29\n",
      "byee\n"
     ]
    }
   ],
   "source": [
    "num = int(input(\"enter number:\"))\n",
    "if num<0:\n",
    "    print(\"negative\")\n",
    "print(\"byee\")"
   ]
  },
  {
   "cell_type": "code",
   "execution_count": 7,
   "id": "9245f0c6",
   "metadata": {},
   "outputs": [
    {
     "name": "stdout",
     "output_type": "stream",
     "text": [
      "enter two number:12 67\n",
      "67\n"
     ]
    }
   ],
   "source": [
    "num1,num2=input(\"enter two number:\").split()\n",
    "num1 = int(num1)\n",
    "num2 = int(num2)\n",
    "diff = num1-num2\n",
    "if diff>0:\n",
    "    print(num1)\n",
    "elif diff==0:\n",
    "    print(\"equal\")\n",
    "else:\n",
    "    print(num2)"
   ]
  },
  {
   "cell_type": "code",
   "execution_count": 11,
   "id": "5437e632",
   "metadata": {},
   "outputs": [
    {
     "name": "stdout",
     "output_type": "stream",
     "text": [
      "enter number:0\n",
      "zero\n"
     ]
    }
   ],
   "source": [
    "num = int(input(\"enter number:\"))\n",
    "if num>=0:\n",
    "    if num==0:\n",
    "        print(\"zero\")\n",
    "    else:\n",
    "        print(\"positive\")\n",
    "else:\n",
    "    print(\"negative\")"
   ]
  },
  {
   "cell_type": "code",
   "execution_count": null,
   "id": "c3d0a496",
   "metadata": {},
   "outputs": [],
   "source": []
  }
 ],
 "metadata": {
  "kernelspec": {
   "display_name": "Python 3 (ipykernel)",
   "language": "python",
   "name": "python3"
  },
  "language_info": {
   "codemirror_mode": {
    "name": "ipython",
    "version": 3
   },
   "file_extension": ".py",
   "mimetype": "text/x-python",
   "name": "python",
   "nbconvert_exporter": "python",
   "pygments_lexer": "ipython3",
   "version": "3.10.9"
  }
 },
 "nbformat": 4,
 "nbformat_minor": 5
}
