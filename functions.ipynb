{
 "cells": [
  {
   "cell_type": "code",
   "execution_count": 2,
   "id": "45b8405f",
   "metadata": {},
   "outputs": [
    {
     "name": "stdout",
     "output_type": "stream",
     "text": [
      "harsha\n",
      "is\n",
      "lal\n",
      "my\n",
      "name\n"
     ]
    }
   ],
   "source": [
    "mystr=\"my name is harsha lal\"\n",
    "words= mystr.split()\n",
    "words.sort()\n",
    "for word in words:\n",
    "    print(word)"
   ]
  },
  {
   "cell_type": "code",
   "execution_count": 7,
   "id": "ae819f75",
   "metadata": {},
   "outputs": [
    {
     "name": "stdout",
     "output_type": "stream",
     "text": [
      "10\n"
     ]
    }
   ],
   "source": [
    "def get_sum(lst):\n",
    "    sum=0\n",
    "    for num in lst:\n",
    "        sum+=num\n",
    "    return sum\n",
    "\n",
    "s= get_sum({1,2,3,4})\n",
    "print(s)"
   ]
  },
  {
   "cell_type": "code",
   "execution_count": 11,
   "id": "3dc26c0b",
   "metadata": {},
   "outputs": [
    {
     "name": "stdout",
     "output_type": "stream",
     "text": [
      "20\n",
      "40\n",
      "20\n"
     ]
    }
   ],
   "source": [
    "global_variable = 20\n",
    "def funtocheck():\n",
    "        local_variable = 40\n",
    "        print(global_variable)\n",
    "        print(local_variable)\n",
    "        \n",
    "funtocheck()\n",
    "print(global_variable)"
   ]
  },
  {
   "cell_type": "code",
   "execution_count": 12,
   "id": "634e7d5c",
   "metadata": {},
   "outputs": [
    {
     "name": "stdout",
     "output_type": "stream",
     "text": [
      "hcf of 29 and 58 is 29\n"
     ]
    }
   ],
   "source": [
    "def find_hcf(a,b):\n",
    "    if a<b:\n",
    "        smaller=a\n",
    "    else:\n",
    "        smaller=b\n",
    "    hcf=1\n",
    "    for i in range(1,smaller+1):\n",
    "        if(a%i==0)and(b%i==0):\n",
    "            hcf=i\n",
    "    return hcf\n",
    "num1=29\n",
    "num2=58\n",
    "print(\"hcf of {0} and {1} is {2}\".format(num1,num2,find_hcf(num1,num2)))"
   ]
  },
  {
   "cell_type": "code",
   "execution_count": 14,
   "id": "5516806c",
   "metadata": {},
   "outputs": [
    {
     "name": "stdout",
     "output_type": "stream",
     "text": [
      "index 5 has value 5\n",
      "index 6 has value 6\n",
      "index 7 has value 7\n",
      "index 8 has value 8\n",
      "index 9 has value 9\n"
     ]
    }
   ],
   "source": [
    "lst=[5,6,7,8,9]\n",
    "for index,num in enumerate(lst,5):\n",
    "    print(\"index {0} has value {1}\".format(index,num))"
   ]
  },
  {
   "cell_type": "code",
   "execution_count": 20,
   "id": "d5cd8c56",
   "metadata": {},
   "outputs": [
    {
     "name": "stdout",
     "output_type": "stream",
     "text": [
      "[-10, -9, -8, -7, -6, -5, -4, -3, -2, -1, 0, 1, 2, 3, 4, 5, 6, 7, 8, 9]\n",
      "[1, 2, 3, 4, 5, 6, 7, 8, 9]\n"
     ]
    }
   ],
   "source": [
    "def find_pos_no(n):\n",
    "    if n>0:\n",
    "        return n\n",
    "number_list= range(-10,10)\n",
    "print(list(number_list))\n",
    "positive_num_lst=list(filter(find_pos_no,number_list))\n",
    "print(positive_num_lst)"
   ]
  },
  {
   "cell_type": "code",
   "execution_count": 21,
   "id": "4de68ff8",
   "metadata": {},
   "outputs": [
    {
     "name": "stdout",
     "output_type": "stream",
     "text": [
      "False\n"
     ]
    }
   ],
   "source": [
    "lst=[1,2,3,4]\n",
    "print(isinstance(lst,tuple))"
   ]
  },
  {
   "cell_type": "code",
   "execution_count": 22,
   "id": "7af236a9",
   "metadata": {},
   "outputs": [
    {
     "name": "stdout",
     "output_type": "stream",
     "text": [
      "[1, 4, 9, 16, 16]\n"
     ]
    }
   ],
   "source": [
    "numbers=[1,2,3,4,4]\n",
    "def power_of_two(num):\n",
    "    return num**2\n",
    "squared=list(map(power_of_two,numbers))\n",
    "print(squared)"
   ]
  },
  {
   "cell_type": "code",
   "execution_count": 24,
   "id": "15345e7b",
   "metadata": {},
   "outputs": [
    {
     "name": "stdout",
     "output_type": "stream",
     "text": [
      "3600\n"
     ]
    }
   ],
   "source": [
    "lst=[1,5,8,9,10]\n",
    "from functools import reduce\n",
    "def multiply(x,y):\n",
    "    return x*y\n",
    "product=reduce(multiply,lst)\n",
    "print(product)"
   ]
  },
  {
   "cell_type": "code",
   "execution_count": null,
   "id": "b3bdd8bb",
   "metadata": {},
   "outputs": [],
   "source": []
  }
 ],
 "metadata": {
  "kernelspec": {
   "display_name": "Python 3 (ipykernel)",
   "language": "python",
   "name": "python3"
  },
  "language_info": {
   "codemirror_mode": {
    "name": "ipython",
    "version": 3
   },
   "file_extension": ".py",
   "mimetype": "text/x-python",
   "name": "python",
   "nbconvert_exporter": "python",
   "pygments_lexer": "ipython3",
   "version": "3.10.9"
  }
 },
 "nbformat": 4,
 "nbformat_minor": 5
}
