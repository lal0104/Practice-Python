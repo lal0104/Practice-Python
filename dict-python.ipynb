{
 "cells": [
  {
   "cell_type": "code",
   "execution_count": 11,
   "id": "c7428275",
   "metadata": {},
   "outputs": [
    {
     "name": "stdout",
     "output_type": "stream",
     "text": [
      "[1, 2, 3]\n",
      "(1,)\n",
      "(1, 2, (1, 2, 3), (1, 2, 3, [1, 4, 3]))\n",
      "(1, 2, (1, 2, 3), (1, 2, 3, [1, 4, 3]), 'harsha')\n",
      "1\n",
      "False\n"
     ]
    }
   ],
   "source": [
    "a=(1,2,(1,2,3),(1,2,3,[1,2,3]))\n",
    "t= \"harsha\",\n",
    "type(t)\n",
    "print(a[3][3])\n",
    "print(a[:-3])\n",
    "a[3][3][1]=4\n",
    "print(a)\n",
    "print(a+t)\n",
    "b=a.count(1)\n",
    "print(b)\n",
    "print(3in a)"
   ]
  },
  {
   "cell_type": "code",
   "execution_count": 9,
   "id": "6584a56e",
   "metadata": {},
   "outputs": [
    {
     "name": "stdout",
     "output_type": "stream",
     "text": [
      "('harsha', 'harsha', 'harsha', 'harsha')\n"
     ]
    }
   ],
   "source": [
    "t= ((\"harsha\",)*4)\n",
    "print(t)"
   ]
  },
  {
   "cell_type": "code",
   "execution_count": null,
   "id": "ef03bc37",
   "metadata": {},
   "outputs": [],
   "source": []
  }
 ],
 "metadata": {
  "kernelspec": {
   "display_name": "Python 3 (ipykernel)",
   "language": "python",
   "name": "python3"
  },
  "language_info": {
   "codemirror_mode": {
    "name": "ipython",
    "version": 3
   },
   "file_extension": ".py",
   "mimetype": "text/x-python",
   "name": "python",
   "nbconvert_exporter": "python",
   "pygments_lexer": "ipython3",
   "version": "3.10.9"
  }
 },
 "nbformat": 4,
 "nbformat_minor": 5
}
