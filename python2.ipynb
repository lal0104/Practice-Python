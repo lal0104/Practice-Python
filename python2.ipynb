{
 "cells": [
  {
   "cell_type": "code",
   "execution_count": 1,
   "id": "637000a9",
   "metadata": {},
   "outputs": [
    {
     "name": "stdout",
     "output_type": "stream",
     "text": [
      "enter your name:harsha lal\n",
      "welcome harsha lal\n"
     ]
    }
   ],
   "source": [
    "name= input(\"enter your name:\")\n",
    "print(\"welcome \"+name)"
   ]
  },
  {
   "cell_type": "code",
   "execution_count": 4,
   "id": "09817433",
   "metadata": {},
   "outputs": [
    {
     "name": "stdout",
     "output_type": "stream",
     "text": [
      "enter first number:20\n",
      "enter second number:2.2\n",
      "22.2\n",
      "17.8\n",
      "9.09090909090909\n",
      "9.0\n",
      "44.0\n",
      "728.2256812104325\n",
      "0.1999999999999984\n"
     ]
    }
   ],
   "source": [
    "num1 = int(input(\"enter first number:\"))\n",
    "num2 = float(input(\"enter second number:\"))\n",
    "print(num1 + num2)\n",
    "print(num1 - num2)\n",
    "print(num1 / num2)\n",
    "print(num1 // num2)\n",
    "print(num1 * num2)\n",
    "print(num1 ** num2)\n",
    "print(num1 % num2)"
   ]
  },
  {
   "cell_type": "code",
   "execution_count": 11,
   "id": "4dc8ccdc",
   "metadata": {},
   "outputs": [
    {
     "name": "stdout",
     "output_type": "stream",
     "text": [
      "enter two number:20 10\n",
      "30\n",
      "10\n",
      "2.0\n",
      "2\n",
      "200\n",
      "10240000000000\n",
      "0\n"
     ]
    }
   ],
   "source": [
    "num1,num2 = input(\"enter two number:\").split()\n",
    "num1=int(num1)\n",
    "num2=int(num2)\n",
    "print(num1 + num2)\n",
    "print(num1 - num2)\n",
    "print(num1 / num2)\n",
    "print(num1 // num2)\n",
    "print(num1 * num2)\n",
    "print(num1 ** num2)\n",
    "print(num1 % num2)"
   ]
  },
  {
   "cell_type": "code",
   "execution_count": 12,
   "id": "a4c9b1f9",
   "metadata": {},
   "outputs": [
    {
     "name": "stdout",
     "output_type": "stream",
     "text": [
      "09-12-2016\n"
     ]
    }
   ],
   "source": [
    "print('09','12','2016',sep='-')"
   ]
  },
  {
   "cell_type": "code",
   "execution_count": null,
   "id": "f23245f6",
   "metadata": {},
   "outputs": [],
   "source": []
  },
  {
   "cell_type": "code",
   "execution_count": null,
   "id": "c546e1d4",
   "metadata": {},
   "outputs": [],
   "source": []
  },
  {
   "cell_type": "code",
   "execution_count": null,
   "id": "91e3fb3a",
   "metadata": {},
   "outputs": [],
   "source": []
  }
 ],
 "metadata": {
  "kernelspec": {
   "display_name": "Python 3 (ipykernel)",
   "language": "python",
   "name": "python3"
  },
  "language_info": {
   "codemirror_mode": {
    "name": "ipython",
    "version": 3
   },
   "file_extension": ".py",
   "mimetype": "text/x-python",
   "name": "python",
   "nbconvert_exporter": "python",
   "pygments_lexer": "ipython3",
   "version": "3.10.9"
  }
 },
 "nbformat": 4,
 "nbformat_minor": 5
}
