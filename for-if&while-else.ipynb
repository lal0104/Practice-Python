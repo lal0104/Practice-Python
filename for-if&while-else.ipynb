{
 "cells": [
  {
   "cell_type": "code",
   "execution_count": 2,
   "id": "3b3c94e3",
   "metadata": {},
   "outputs": [
    {
     "name": "stdout",
     "output_type": "stream",
     "text": [
      "product is 12000000\n"
     ]
    }
   ],
   "source": [
    "s=[10,20,30,40,50]\n",
    "product = 1\n",
    "i=0\n",
    "while i<len(s):\n",
    "    product*=s[i]\n",
    "    i+=1\n",
    "print(\"product is {}\".format(product))"
   ]
  },
  {
   "cell_type": "code",
   "execution_count": 3,
   "id": "844c437f",
   "metadata": {},
   "outputs": [
    {
     "name": "stdout",
     "output_type": "stream",
     "text": [
      "1\n",
      "2\n",
      "3\n",
      "4\n",
      "5\n",
      "done\n"
     ]
    }
   ],
   "source": [
    "s= [1,2,3,4,5]\n",
    "i=0\n",
    "while i<len(s):\n",
    "    print(s[i])\n",
    "    i+=1\n",
    "else:\n",
    "    print(\"done\")"
   ]
  },
  {
   "cell_type": "code",
   "execution_count": 14,
   "id": "7f0397de",
   "metadata": {},
   "outputs": [
    {
     "name": "stdout",
     "output_type": "stream",
     "text": [
      "enter number:13\n",
      "13 is a prime number.\n"
     ]
    }
   ],
   "source": [
    "num=int(input(\"enter number:\"))\n",
    "isDivisible=0\n",
    "i=2\n",
    "while i<num:\n",
    "    if num%i==0:\n",
    "        isDivisible=1\n",
    "        print(\"{} is not a prime number.\".format(num))\n",
    "        break\n",
    "    i+=1\n",
    "if isDivisible == 0:\n",
    "        print(\"{} is a prime number.\".format(num))"
   ]
  },
  {
   "cell_type": "code",
   "execution_count": 16,
   "id": "2953ff30",
   "metadata": {},
   "outputs": [
    {
     "name": "stdout",
     "output_type": "stream",
     "text": [
      "0\n",
      "1\n",
      "2\n",
      "3\n",
      "4\n",
      "5\n",
      "6\n",
      "7\n",
      "8\n",
      "9\n"
     ]
    }
   ],
   "source": [
    "for i in range(10):\n",
    "    print(i)"
   ]
  },
  {
   "cell_type": "code",
   "execution_count": 17,
   "id": "57132fc4",
   "metadata": {},
   "outputs": [
    {
     "name": "stdout",
     "output_type": "stream",
     "text": [
      "10\n",
      "12\n",
      "14\n",
      "16\n",
      "18\n"
     ]
    }
   ],
   "source": [
    "for i in range(10,20,2):\n",
    "    print(i)\n"
   ]
  },
  {
   "cell_type": "code",
   "execution_count": 18,
   "id": "d83cd98a",
   "metadata": {},
   "outputs": [
    {
     "name": "stdout",
     "output_type": "stream",
     "text": [
      "10\n",
      "20\n",
      "30\n",
      "40\n",
      "90\n",
      "harsha\n",
      "l\n"
     ]
    }
   ],
   "source": [
    "s=[10,20,30,40,90,\"harsha\",'l']\n",
    "for ele in s:\n",
    "    print(ele)"
   ]
  },
  {
   "cell_type": "code",
   "execution_count": 24,
   "id": "e7859658",
   "metadata": {},
   "outputs": [
    {
     "name": "stdout",
     "output_type": "stream",
     "text": [
      "enter range:20 60\n",
      "23\n",
      "29\n",
      "31\n",
      "37\n",
      "41\n",
      "43\n",
      "47\n",
      "53\n",
      "59\n"
     ]
    }
   ],
   "source": [
    "num1,num2=input(\"enter range:\").split()\n",
    "num1= int(num1)\n",
    "num2= int(num2)\n",
    "for num in range(num1,num2):\n",
    "    b=0\n",
    "    for i in range(2,num):\n",
    "        if num%i==0:\n",
    "            b=1\n",
    "    if b ==0:\n",
    "        print(num)"
   ]
  },
  {
   "cell_type": "code",
   "execution_count": null,
   "id": "8a3dc2f8",
   "metadata": {},
   "outputs": [],
   "source": []
  }
 ],
 "metadata": {
  "kernelspec": {
   "display_name": "Python 3 (ipykernel)",
   "language": "python",
   "name": "python3"
  },
  "language_info": {
   "codemirror_mode": {
    "name": "ipython",
    "version": 3
   },
   "file_extension": ".py",
   "mimetype": "text/x-python",
   "name": "python",
   "nbconvert_exporter": "python",
   "pygments_lexer": "ipython3",
   "version": "3.10.9"
  }
 },
 "nbformat": 4,
 "nbformat_minor": 5
}
