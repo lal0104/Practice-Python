{
 "cells": [
  {
   "cell_type": "code",
   "execution_count": 9,
   "id": "bcac729c",
   "metadata": {},
   "outputs": [
    {
     "name": "stdout",
     "output_type": "stream",
     "text": [
      "harsha lal\n"
     ]
    }
   ],
   "source": [
    "s = \"harsha lal\"\n",
    "print(s)"
   ]
  },
  {
   "cell_type": "code",
   "execution_count": 8,
   "id": "767a28ba",
   "metadata": {},
   "outputs": [
    {
     "name": "stdout",
     "output_type": "stream",
     "text": [
      "20\n",
      "harsha lal\n"
     ]
    }
   ],
   "source": [
    "a_b_c = 20\n",
    "a_b = 30\n",
    "print(a_b_c)\n",
    "\"\"\"\"global = 22\n",
    "print(global)\"\"\"\n",
    "if 5>2:\n",
    "    print(a)\n",
    "else :\n",
    "    print(a_b_c)"
   ]
  },
  {
   "cell_type": "code",
   "execution_count": 12,
   "id": "b0f663d9",
   "metadata": {},
   "outputs": [
    {
     "name": "stdout",
     "output_type": "stream",
     "text": [
      "15\n"
     ]
    }
   ],
   "source": [
    "ab= 1+2+3+\\\n",
    "    4+5 \n",
    "print(ab)"
   ]
  },
  {
   "cell_type": "code",
   "execution_count": 15,
   "id": "3b49ecb8",
   "metadata": {},
   "outputs": [
    {
     "name": "stdout",
     "output_type": "stream",
     "text": [
      "10 20 30\n",
      "20\n",
      "30\n"
     ]
    }
   ],
   "source": [
    "a=10;b=20;c=30\n",
    "print(a,b,c)\n",
    "print(b)\n",
    "print(c)"
   ]
  },
  {
   "cell_type": "code",
   "execution_count": 18,
   "id": "f4d02ef2",
   "metadata": {},
   "outputs": [
    {
     "name": "stdout",
     "output_type": "stream",
     "text": [
      "10 3 3\n",
      "2490909327664 2490909327664\n"
     ]
    }
   ],
   "source": [
    "d,e,f=10,3,3\n",
    "print(d,e,f)\n",
    "print(id(e),id(f))"
   ]
  },
  {
   "cell_type": "code",
   "execution_count": 25,
   "id": "3653e659",
   "metadata": {},
   "outputs": [
    {
     "name": "stdout",
     "output_type": "stream",
     "text": [
      "True\n"
     ]
    }
   ],
   "source": [
    "g= 1+3j;\n",
    "print(isinstance(a,int))"
   ]
  },
  {
   "cell_type": "code",
   "execution_count": 37,
   "id": "ffa38029",
   "metadata": {},
   "outputs": [
    {
     "name": "stdout",
     "output_type": "stream",
     "text": [
      "harsha lal2\n",
      "h\n",
      "a\n"
     ]
    }
   ],
   "source": [
    "s = \"harsha lal\"\n",
    "a= 2\n",
    "print(s+ str(a))\n",
    "print(s[0])\n",
    "print(s[-2])"
   ]
  },
  {
   "cell_type": "code",
   "execution_count": 36,
   "id": "4fa83566",
   "metadata": {},
   "outputs": [
    {
     "name": "stdout",
     "output_type": "stream",
     "text": [
      "[10, 'harsha']\n",
      "[10, 20]\n"
     ]
    }
   ],
   "source": [
    "x=[10,'harsha']\n",
    "print(x)\n",
    "x[1]=20\n",
    "print(x)"
   ]
  },
  {
   "cell_type": "code",
   "execution_count": 30,
   "id": "2373af46",
   "metadata": {},
   "outputs": [
    {
     "name": "stdout",
     "output_type": "stream",
     "text": [
      "(10, 'harsha')\n"
     ]
    }
   ],
   "source": [
    "x=(10,'harsha')\n",
    "print(x)"
   ]
  },
  {
   "cell_type": "code",
   "execution_count": 31,
   "id": "ff0c7ae1",
   "metadata": {},
   "outputs": [
    {
     "name": "stdout",
     "output_type": "stream",
     "text": [
      "{10, 20, 30}\n"
     ]
    }
   ],
   "source": [
    "s={10,20,30,30,30}\n",
    "print(s)"
   ]
  },
  {
   "cell_type": "code",
   "execution_count": 33,
   "id": "e22494cb",
   "metadata": {},
   "outputs": [
    {
     "name": "stdout",
     "output_type": "stream",
     "text": [
      "app\n",
      "20\n"
     ]
    }
   ],
   "source": [
    "d={'a':\"app\",'b':20}\n",
    "print(d['a'])\n",
    "print(d['b'])"
   ]
  },
  {
   "cell_type": "code",
   "execution_count": null,
   "id": "315d8bc6",
   "metadata": {},
   "outputs": [],
   "source": []
  }
 ],
 "metadata": {
  "kernelspec": {
   "display_name": "Python 3 (ipykernel)",
   "language": "python",
   "name": "python3"
  },
  "language_info": {
   "codemirror_mode": {
    "name": "ipython",
    "version": 3
   },
   "file_extension": ".py",
   "mimetype": "text/x-python",
   "name": "python",
   "nbconvert_exporter": "python",
   "pygments_lexer": "ipython3",
   "version": "3.10.9"
  }
 },
 "nbformat": 4,
 "nbformat_minor": 5
}
