{
 "cells": [
  {
   "cell_type": "code",
   "execution_count": 13,
   "id": "7095e51b",
   "metadata": {},
   "outputs": [
    {
     "name": "stdout",
     "output_type": "stream",
     "text": [
      "[1, 2, 3]\n",
      "(1,)\n",
      "(1, 2, (1, 2, 3), (1, 2, 3, [1, 4, 3]))\n",
      "(1, 2, (1, 2, 3), (1, 2, 3, [1, 4, 3]), 'harsha')\n",
      "1\n",
      "False\n"
     ]
    }
   ],
   "source": [
    "a=(1,2,(1,2,3),(1,2,3,[1,2,3]))\n",
    "t= \"harsha\",\n",
    "type(t)\n",
    "print(a[3][3])\n",
    "print(a[:-3])\n",
    "a[3][3][1]=4\n",
    "print(a)\n",
    "print(a+t)\n",
    "b=a.count(1)\n",
    "print(b)\n",
    "print(3in a)"
   ]
  },
  {
   "cell_type": "code",
   "execution_count": 9,
   "id": "060232f0",
   "metadata": {},
   "outputs": [
    {
     "name": "stdout",
     "output_type": "stream",
     "text": [
      "('harsha', 'harsha', 'harsha', 'harsha')\n"
     ]
    }
   ],
   "source": [
    "t= ((\"harsha\",)*4)\n",
    "print(t)"
   ]
  },
  {
   "cell_type": "code",
   "execution_count": 14,
   "id": "82b9c7c0",
   "metadata": {},
   "outputs": [
    {
     "name": "stdout",
     "output_type": "stream",
     "text": [
      "99\n",
      "1\n",
      "114\n"
     ]
    }
   ],
   "source": [
    "a=(1,2,3,4,5,99)\n",
    "print(max(a))\n",
    "print(min(a))\n",
    "print(sum(a))"
   ]
  },
  {
   "cell_type": "code",
   "execution_count": null,
   "id": "14638d55",
   "metadata": {},
   "outputs": [],
   "source": []
  }
 ],
 "metadata": {
  "kernelspec": {
   "display_name": "Python 3 (ipykernel)",
   "language": "python",
   "name": "python3"
  },
  "language_info": {
   "codemirror_mode": {
    "name": "ipython",
    "version": 3
   },
   "file_extension": ".py",
   "mimetype": "text/x-python",
   "name": "python",
   "nbconvert_exporter": "python",
   "pygments_lexer": "ipython3",
   "version": "3.10.9"
  }
 },
 "nbformat": 4,
 "nbformat_minor": 5
}
