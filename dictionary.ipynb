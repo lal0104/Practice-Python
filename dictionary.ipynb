{
 "cells": [
  {
   "cell_type": "code",
   "execution_count": 1,
   "id": "53926ebb",
   "metadata": {},
   "outputs": [
    {
     "name": "stdout",
     "output_type": "stream",
     "text": [
      "harsha\n"
     ]
    }
   ],
   "source": [
    "m={1:\"harsha\",2:\"lal\"}\n",
    "print(m[1])"
   ]
  },
  {
   "cell_type": "code",
   "execution_count": 2,
   "id": "ad522ec2",
   "metadata": {},
   "outputs": [
    {
     "name": "stdout",
     "output_type": "stream",
     "text": [
      "[1, 2, 3]\n",
      "['harsha', 24]\n"
     ]
    }
   ],
   "source": [
    "m={1:[1,2,3],2:['harsha',24]}\n",
    "print(m[1])\n",
    "print(m[2])"
   ]
  },
  {
   "cell_type": "code",
   "execution_count": 12,
   "id": "5f041a1f",
   "metadata": {},
   "outputs": [
    {
     "name": "stdout",
     "output_type": "stream",
     "text": [
      "{1: 2, 'a': 'ab'}\n",
      "None\n",
      "{1: 2, 'a': 'ab'}\n"
     ]
    }
   ],
   "source": [
    "m= dict([(1,2),('a','ab')])\n",
    "print(m)\n",
    "print(m.get('2'))\n",
    "p=m.copy()\n",
    "print(p)"
   ]
  },
  {
   "cell_type": "code",
   "execution_count": 13,
   "id": "71de0c08",
   "metadata": {},
   "outputs": [
    {
     "name": "stdout",
     "output_type": "stream",
     "text": [
      "{1: 'harsha', 2: 'lal', 3: 'best'}\n",
      "{1: 'harsha', 2: 'lal'}\n"
     ]
    }
   ],
   "source": [
    "m={1:\"harsha\",2:\"lal\"}\n",
    "m[3]='best'\n",
    "print(m)\n",
    "del m[3]\n",
    "print(m)"
   ]
  },
  {
   "cell_type": "code",
   "execution_count": 16,
   "id": "afc5d035",
   "metadata": {},
   "outputs": [
    {
     "name": "stdout",
     "output_type": "stream",
     "text": [
      "{'maths': 0, 'english': 0, 'geology': 0}\n"
     ]
    }
   ],
   "source": [
    "sub={}.fromkeys(['maths','english','geology'],0)\n",
    "print(sub)"
   ]
  },
  {
   "cell_type": "code",
   "execution_count": 18,
   "id": "12d2d612",
   "metadata": {},
   "outputs": [
    {
     "name": "stdout",
     "output_type": "stream",
     "text": [
      "dict_values([1, 4, 9, 16])\n",
      "dict_keys([1, 2, 3, 4])\n",
      "dict_items([(1, 1), (2, 4), (3, 9), (4, 16)])\n",
      "['__class__', '__class_getitem__', '__contains__', '__delattr__', '__delitem__', '__dir__', '__doc__', '__eq__', '__format__', '__ge__', '__getattribute__', '__getitem__', '__gt__', '__hash__', '__init__', '__init_subclass__', '__ior__', '__iter__', '__le__', '__len__', '__lt__', '__ne__', '__new__', '__or__', '__reduce__', '__reduce_ex__', '__repr__', '__reversed__', '__ror__', '__setattr__', '__setitem__', '__sizeof__', '__str__', '__subclasshook__', 'clear', 'copy', 'fromkeys', 'get', 'items', 'keys', 'pop', 'popitem', 'setdefault', 'update', 'values']\n"
     ]
    }
   ],
   "source": [
    "sq={1:1,2:4,3:9,4:16}\n",
    "print(sq.values())\n",
    "print(sq.keys())\n",
    "print(sq.items())\n",
    "print(dir(sq))\n"
   ]
  },
  {
   "cell_type": "code",
   "execution_count": 21,
   "id": "c6038f87",
   "metadata": {},
   "outputs": [
    {
     "name": "stdout",
     "output_type": "stream",
     "text": [
      "(1, 1)\n",
      "(2, 4)\n",
      "(3, 9)\n",
      "(4, 16)\n"
     ]
    }
   ],
   "source": [
    "sq={1:1,2:4,3:9,4:16}\n",
    "for ele in sq.items():\n",
    "    print(ele)"
   ]
  },
  {
   "cell_type": "code",
   "execution_count": null,
   "id": "aa62f2a9",
   "metadata": {},
   "outputs": [],
   "source": []
  }
 ],
 "metadata": {
  "kernelspec": {
   "display_name": "Python 3 (ipykernel)",
   "language": "python",
   "name": "python3"
  },
  "language_info": {
   "codemirror_mode": {
    "name": "ipython",
    "version": 3
   },
   "file_extension": ".py",
   "mimetype": "text/x-python",
   "name": "python",
   "nbconvert_exporter": "python",
   "pygments_lexer": "ipython3",
   "version": "3.10.9"
  }
 },
 "nbformat": 4,
 "nbformat_minor": 5
}
