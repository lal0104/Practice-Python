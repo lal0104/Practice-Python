{
 "cells": [
  {
   "cell_type": "code",
   "execution_count": 6,
   "id": "ace8dab7",
   "metadata": {},
   "outputs": [
    {
     "name": "stdout",
     "output_type": "stream",
     "text": [
      "{1, 2, 3}\n",
      "{1, 2, 3, 4}\n",
      "{1, 2, 3, 4}\n",
      "{64, 1, 2, 3, 4, 98, 78, 23}\n",
      "None\n",
      "{64, 1, 2, 3, 98, 78, 23}\n",
      "{1, 2, 3, 98, 78, 23}\n"
     ]
    }
   ],
   "source": [
    "s={1,2,2,3}\n",
    "print(s)\n",
    "p=set([1,2,3,4])\n",
    "print(p)\n",
    "s.add(4)\n",
    "print(s)\n",
    "s.update([98,78,98],{23,64})\n",
    "print(s)\n",
    "s.remove(4)\n",
    "print(s.discard(4))\n",
    "print(s)\n",
    "s.pop()\n",
    "print(s)"
   ]
  },
  {
   "cell_type": "code",
   "execution_count": 9,
   "id": "ffd176b4",
   "metadata": {},
   "outputs": [
    {
     "name": "stdout",
     "output_type": "stream",
     "text": [
      "{1, 2, 3, 4, 5, 6, 7, 8}\n",
      "{1, 2, 3, 4, 5, 6, 7, 8}\n",
      "{4, 5, 6}\n",
      "{4, 5, 6}\n",
      "{1, 2, 3}\n",
      "{1, 2, 3}\n",
      "{1, 2, 3, 7, 8}\n",
      "{1, 2, 3, 7, 8}\n",
      "False\n"
     ]
    }
   ],
   "source": [
    "s1={1,2,3,4,5,6}\n",
    "s2={4,5,6,7,8}\n",
    "print(s1|s2)\n",
    "print(s1.union(s2))\n",
    "print(s1&s2)\n",
    "print(s1.intersection(s2))\n",
    "print(s1-s2)\n",
    "print(s1.difference(s2))\n",
    "print(s1^s2)\n",
    "print(s1.symmetric_difference(s2))\n",
    "print(s1.issubset(s2))"
   ]
  },
  {
   "cell_type": "code",
   "execution_count": 12,
   "id": "44c1508c",
   "metadata": {},
   "outputs": [],
   "source": [
    "s1={1,2,3,4,5,6}\n",
    "s2 = frozenset(s1)\n",
    "#s2.add('a')"
   ]
  },
  {
   "cell_type": "code",
   "execution_count": null,
   "id": "701d2104",
   "metadata": {},
   "outputs": [],
   "source": []
  }
 ],
 "metadata": {
  "kernelspec": {
   "display_name": "Python 3 (ipykernel)",
   "language": "python",
   "name": "python3"
  },
  "language_info": {
   "codemirror_mode": {
    "name": "ipython",
    "version": 3
   },
   "file_extension": ".py",
   "mimetype": "text/x-python",
   "name": "python",
   "nbconvert_exporter": "python",
   "pygments_lexer": "ipython3",
   "version": "3.10.9"
  }
 },
 "nbformat": 4,
 "nbformat_minor": 5
}
