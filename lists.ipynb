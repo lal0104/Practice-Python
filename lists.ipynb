{
 "cells": [
  {
   "cell_type": "code",
   "execution_count": 27,
   "id": "7e3842fa",
   "metadata": {},
   "outputs": [
    {
     "name": "stdout",
     "output_type": "stream",
     "text": [
      "0\n",
      "3\n",
      "5\n",
      "3\n",
      "['harsha', 'is', 'best']\n",
      "[1, 2, 3, 2, 40]\n",
      "['w', 1, 2]\n",
      "['winner']\n",
      "['harsha', 'is', 'the', 'best']\n",
      "[1, 3, 2, 40]\n",
      "['harsha', 'is', 'the', 'best', 'w', 1, 2]\n",
      "['harsha', 'is', 'the', 'best', 'w', 1, 2, ['w', 1, 2]]\n",
      "['harsha', 'is', 'the', 'best', 'w', ['w', 1, 2]]\n",
      "['w', 1, 2]\n",
      "['harsha', 'is', 'the', 'best', 'w']\n"
     ]
    }
   ],
   "source": [
    "a= ['harsha', \"is\", \"best\"]\n",
    "b =[1,2,3,2,40]\n",
    "c=['w', 1, 2]\n",
    "s=[]\n",
    "print(len(s))\n",
    "print(len(a))\n",
    "print(len(b))\n",
    "print(len(c))\n",
    "s.append(\"winner\")\n",
    "print(a)\n",
    "print(b)\n",
    "print(c)\n",
    "print(s)\n",
    "a.insert(2,'the')\n",
    "print(a)\n",
    "b.remove(2)\n",
    "print(b)\n",
    "a.extend(c)\n",
    "print(a)\n",
    "a.append(c)\n",
    "print(a)\n",
    "del a[6]\n",
    "del a[5]\n",
    "print(a)\n",
    "e=a.pop(5)\n",
    "print(e)\n",
    "print(a)"
   ]
  },
  {
   "cell_type": "code",
   "execution_count": 32,
   "id": "8414a951",
   "metadata": {},
   "outputs": [
    {
     "name": "stdout",
     "output_type": "stream",
     "text": [
      "yes\n",
      "ya\n"
     ]
    }
   ],
   "source": [
    "a= ['harsha', \"is\", \"best\"]\n",
    "b =[1,2,3,2,40]\n",
    "c=['w', 1, 2]\n",
    "if 'the' not in a:\n",
    "    print('yes')\n",
    "else:\n",
    "    print('no')\n",
    "if 1 in b:\n",
    "    print('ya')"
   ]
  },
  {
   "cell_type": "code",
   "execution_count": 38,
   "id": "efc2c380",
   "metadata": {},
   "outputs": [
    {
     "name": "stdout",
     "output_type": "stream",
     "text": [
      "['best', 'is', 'harsha']\n",
      "[40, 3, 2, 2, 1]\n",
      "[1, 2, 3, 2, 40]\n",
      "[1, 2, 2, 3, 40]\n"
     ]
    }
   ],
   "source": [
    "a= ['harsha', \"is\", \"best\"]\n",
    "b =[1,2,3,2,40]\n",
    "c=['w', 1, 2]\n",
    "a.reverse()\n",
    "print(a)\n",
    "d=sorted(b,reverse = True)\n",
    "print(d)\n",
    "print(b)\n",
    "b.sort()\n",
    "print(b)"
   ]
  },
  {
   "cell_type": "code",
   "execution_count": 55,
   "id": "59625b46",
   "metadata": {},
   "outputs": [
    {
     "name": "stdout",
     "output_type": "stream",
     "text": [
      "['harsha', 'is', 'doing', 'her', 'best']\n",
      "a\n",
      "is\n",
      "harsha\n",
      "is\n",
      "doing\n",
      "her\n",
      "best\n"
     ]
    }
   ],
   "source": [
    "s=\"harsha is doing her best\"\n",
    "a=s.split()\n",
    "print(a)\n",
    "print(s[1])\n",
    "print(a[1])\n",
    "for ele in a:\n",
    "    print(ele)"
   ]
  },
  {
   "cell_type": "code",
   "execution_count": 52,
   "id": "f592b221",
   "metadata": {},
   "outputs": [
    {
     "name": "stdout",
     "output_type": "stream",
     "text": [
      "[10, 20, 30, 40, 50, 60]\n",
      "[10, 20, 30, 40]\n",
      "[30, 50]\n"
     ]
    }
   ],
   "source": [
    "n=[10,20,30,40,50,60]\n",
    "print(n[:])\n",
    "print(n[0:4])\n",
    "print(n[2::2])"
   ]
  },
  {
   "cell_type": "code",
   "execution_count": 53,
   "id": "19615081",
   "metadata": {},
   "outputs": [
    {
     "name": "stdout",
     "output_type": "stream",
     "text": [
      "['harsha', 'is', 'best', 1, 2, 3, 2, 40]\n"
     ]
    }
   ],
   "source": [
    "a= ['harsha', \"is\", \"best\"]\n",
    "b =[1,2,3,2,40]\n",
    "c=a+b\n",
    "print(c)"
   ]
  },
  {
   "cell_type": "code",
   "execution_count": 54,
   "id": "6501cb49",
   "metadata": {},
   "outputs": [
    {
     "name": "stdout",
     "output_type": "stream",
     "text": [
      "4\n"
     ]
    }
   ],
   "source": [
    "a=[1,2,1,3,1,5,6,1]\n",
    "print(a.count(1))"
   ]
  },
  {
   "cell_type": "code",
   "execution_count": 56,
   "id": "7e3a1f9d",
   "metadata": {},
   "outputs": [
    {
     "name": "stdout",
     "output_type": "stream",
     "text": [
      "[0, 1, 4, 9, 16, 25, 36, 49, 64, 81]\n"
     ]
    }
   ],
   "source": [
    "squares=[]\n",
    "for i in range(10):\n",
    "    squares.append(i**2)\n",
    "print(squares)"
   ]
  },
  {
   "cell_type": "code",
   "execution_count": 57,
   "id": "8b7be6f5",
   "metadata": {},
   "outputs": [
    {
     "name": "stdout",
     "output_type": "stream",
     "text": [
      "[0, 1, 4, 9, 16, 25, 36, 49, 64, 81]\n"
     ]
    }
   ],
   "source": [
    "squares=[i**2 for i in range(10)]\n",
    "print(squares)"
   ]
  },
  {
   "cell_type": "code",
   "execution_count": 58,
   "id": "fed38d7e",
   "metadata": {},
   "outputs": [
    {
     "name": "stdout",
     "output_type": "stream",
     "text": [
      "[(0, 0), (1, 1), (2, 4), (3, 9), (4, 16), (5, 25), (6, 36), (7, 49), (8, 64), (9, 81)]\n"
     ]
    }
   ],
   "source": [
    "n=[(i,i**2) for i in range(10)]\n",
    "print(n)"
   ]
  },
  {
   "cell_type": "code",
   "execution_count": 61,
   "id": "193b559d",
   "metadata": {},
   "outputs": [
    {
     "name": "stdout",
     "output_type": "stream",
     "text": [
      "[[1, 3, 5], [2, 4, 6]]\n"
     ]
    }
   ],
   "source": [
    "m=[[1,2],[3,4],[5,6]]\n",
    "transpose=[]\n",
    "for i in range (2):\n",
    "    a=[]\n",
    "    for j in m:\n",
    "        a.append(j[i])\n",
    "    transpose.append(a)\n",
    "print(transpose)"
   ]
  },
  {
   "cell_type": "code",
   "execution_count": null,
   "id": "83d40898",
   "metadata": {},
   "outputs": [],
   "source": []
  }
 ],
 "metadata": {
  "kernelspec": {
   "display_name": "Python 3 (ipykernel)",
   "language": "python",
   "name": "python3"
  },
  "language_info": {
   "codemirror_mode": {
    "name": "ipython",
    "version": 3
   },
   "file_extension": ".py",
   "mimetype": "text/x-python",
   "name": "python",
   "nbconvert_exporter": "python",
   "pygments_lexer": "ipython3",
   "version": "3.10.9"
  }
 },
 "nbformat": 4,
 "nbformat_minor": 5
}
